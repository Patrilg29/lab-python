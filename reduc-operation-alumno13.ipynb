{
 "cells": [
  {
   "cell_type": "markdown",
   "id": "f942d288-be01-42cd-9b84-83529c6769be",
   "metadata": {},
   "source": [
    "### Reduction operation: the sum of the numbers in the range [0, a)"
   ]
  },
  {
   "cell_type": "code",
   "execution_count": 10,
   "id": "496946fa-2a28-4c1d-8a6a-2ee0b8fd8ced",
   "metadata": {},
   "outputs": [
    {
     "name": "stdout",
     "output_type": "stream",
     "text": [
      "Time taken by reduction operation: 0.2662057876586914 seconds\n",
      "272 ms ± 704 µs per loop (mean ± std. dev. of 2 runs, 1 loop each)\n",
      "\n",
      " \t Computing the sum of numbers in the range [0, value): 499999500000\n",
      "\n"
     ]
    }
   ],
   "source": [
    "import time\n",
    "import sys\n",
    "\n",
    "def reduc_operation(a):\n",
    "    \"\"\"Compute the sum of the numbers in the range [0, a).\"\"\"\n",
    "    x = 0\n",
    "    for i in range(a):\n",
    "        x += i\n",
    "    return x\n",
    "\n",
    "# Secuencial\n",
    "\n",
    "value = int(sys.argv[1])\n",
    "\n",
    "initialTime = time.time()\n",
    "suma = reduc_operation(value)\n",
    "finalTime = time.time()\n",
    "\n",
    "print(\"Time taken by reduction operation:\", (finalTime - initialTime), \"seconds\")\n",
    "\n",
    "# Utilizando las operaciones mágicas de ipython\n",
    "%timeit -r 2 reduc_operation(value)\n",
    "\n",
    "print(f\"\\n \\t Computing the sum of numbers in the range [0, value): {suma}\\n\")"
   ]
  },
  {
   "cell_type": "markdown",
   "id": "66835c09-2ec4-4cea-adbc-ee30de4350c1",
   "metadata": {},
   "source": [
    "### APARTADO A"
   ]
  },
  {
   "cell_type": "code",
   "execution_count": 11,
   "id": "3c6faf2a-6986-4023-be66-672c3be5d193",
   "metadata": {},
   "outputs": [
    {
     "name": "stdout",
     "output_type": "stream",
     "text": [
      "El tiempo empleado en la suma mediante el bucle for es 0.2701277732849121 seconds\n",
      "El tiempo empleado en la suma mediante la función sum es 0.03195786476135254 seconds\n"
     ]
    }
   ],
   "source": [
    "import time # Importamos la librería necesaria\n",
    "\n",
    "# Creamos la función para calcular la suma total con un bucle for\n",
    "def sumar(iterable):\n",
    "    x = 0\n",
    "    for i in range (len(iterable)):\n",
    "        x += i\n",
    "    return x\n",
    "\n",
    "# Creamos una lista de 10^6 elementos\n",
    "lista_sumar = list(range(value))\n",
    "\n",
    "# Medimos el tiempo empleado en la suma\n",
    "initialTime = time.time()\n",
    "suma = sumar(lista_sumar)\n",
    "finalTime = time.time()\n",
    "\n",
    "print('El tiempo empleado en la suma mediante el bucle for es', (finalTime - initialTime), \"segundos\")\n",
    "\n",
    "# Ahora calculamos la suma total usando la función sum y medimos el tiempo\n",
    "initialTime = time.time()\n",
    "suma = sum(lista_sumar)\n",
    "finalTime = time.time()\n",
    "\n",
    "print('El tiempo empleado en la suma mediante la función sum es', (finalTime - initialTime), \"segundos\")"
   ]
  },
  {
   "cell_type": "markdown",
   "id": "aba3ab9a-eda4-447e-aaa2-ad67ae0008ee",
   "metadata": {},
   "source": [
    "### APARTADO B"
   ]
  },
  {
   "cell_type": "code",
   "execution_count": 12,
   "id": "4b84de28-ce4b-462c-82db-26ca273a2003",
   "metadata": {},
   "outputs": [
    {
     "name": "stdout",
     "output_type": "stream",
     "text": [
      "El tiempo empleado en la suma mediante el bucle for es 0.26950931549072266 seconds\n",
      "El tiempo empleado en la suma mediante la función sum de numpy es 0.0018620491027832031 seconds\n"
     ]
    }
   ],
   "source": [
    "# Importamos los paquetes\n",
    "import numpy as np \n",
    "import time\n",
    "\n",
    "lista_np = np.array(lista_sumar) # Convertimos la lista anterior en array\n",
    "\n",
    "# Calculamos la suma total con un bucle for y medimos el tiempo\n",
    "# Emplearemos la función del apartado anterior\n",
    "initialTime = time.time()\n",
    "suma = sumar(lista_np)\n",
    "finalTime = time.time()\n",
    "\n",
    "print('El tiempo empleado en la suma mediante el bucle for es', (finalTime - initialTime), \"segundos\")\n",
    "\n",
    "# Ahora calculamos la suma total usando la función sum de numpy y medimos el tiempo\n",
    "initialTime = time.time()\n",
    "suma = np.sum(lista_np)\n",
    "finalTime = time.time()\n",
    "\n",
    "print('El tiempo empleado en la suma mediante la función sum de numpy es', (finalTime - initialTime), \"segundos\")"
   ]
  },
  {
   "cell_type": "markdown",
   "id": "2cd86648-eeea-4fa1-a4e4-76a42049458f",
   "metadata": {},
   "source": [
    "### APARTADO C\n",
    "Podemos observar que con el código original el tiempo es aproximadamente 0.28s, al igual que cuando se utiliza un bucle que cuando se utiliza un bucle *for* para obtener la suma total de una lista o un array. No obstante, si en lugar de emplear dicho bucle se utiliza la función *sum* para obtener la suma total de la lista, el tiempo se reduce a 0.03s. Además, si se usa la función *sum* de la librería *numpy* para obtener la suma total del array, el tiempo disminuye aún más (0.002s). Entonces, la forma más rápida de realizar esta operación es con la función *sum* de *numpy*, que suma todos los elementos de un array."
   ]
  },
  {
   "cell_type": "markdown",
   "id": "5d05233c-5e14-4328-aa2b-701f769f1004",
   "metadata": {},
   "source": [
    "### EJERCICIO 3.3. Numba con Jupyter notebook y uso de colas\n",
    "## APARTADO A"
   ]
  },
  {
   "cell_type": "code",
   "execution_count": 17,
   "id": "f8c93cc0-c49f-46b6-b12e-7d2bc37bfc22",
   "metadata": {},
   "outputs": [
    {
     "name": "stdout",
     "output_type": "stream",
     "text": [
      "El tiempo empleado en la suma usando el decorador njit por primera vez es 0.4072885513305664 segundos\n",
      "El tiempo empleado en la suma usando el decorador njit por segunda vez es 0.0004317760467529297 segundos\n",
      "El tiempo empleado en la suma mediante la función sum de numpy es 0.001943349838256836 segundos\n"
     ]
    }
   ],
   "source": [
    "# Importamos los paquetes\n",
    "import numpy as np \n",
    "import time\n",
    "from numba import njit\n",
    "\n",
    "# Creamos la función de la suma total con un bucle for y le añadimos el decorador njit\n",
    "@njit\n",
    "def sumar_numba(iterable):\n",
    "    x = 0\n",
    "    for i in range (len(iterable)):\n",
    "        x += i\n",
    "    return x\n",
    "    \n",
    "# Calcularemos el tiempo que tarda en realizar la suma total\n",
    "# Se utilizará el array creado en el anterior ejercicio\n",
    "initialTime = time.time()\n",
    "suma = sumar_numba(lista_np)\n",
    "finalTime = time.time()\n",
    "\n",
    "print('El tiempo empleado en la suma usando el decorador njit por primera vez es', (finalTime - initialTime), \"segundos\")\n",
    "\n",
    "# Como la primera vez que se ejecuta la función Numba compila el código, hay un tiempo extra\n",
    "# Mediremos el tiempo una segunda vez para ver el tiempo real que tarda\n",
    "\n",
    "initialTime = time.time()\n",
    "suma = sumar_numba(lista_np)\n",
    "finalTime = time.time()\n",
    "\n",
    "print('El tiempo empleado en la suma usando el decorador njit por segunda vez es', (finalTime - initialTime), \"segundos\")\n",
    "\n",
    "# Ahora calculamos la suma total usando la función sum de numpy y medimos el tiempo\n",
    "initialTime = time.time()\n",
    "suma = np.sum(lista_np) \n",
    "finalTime = time.time()\n",
    "# A esta función no se le puede añadir @njit porque ya está definida en el paquete\n",
    "\n",
    "print('El tiempo empleado en la suma mediante la función sum de numpy es', (finalTime - initialTime), \"segundos\")"
   ]
  },
  {
   "cell_type": "markdown",
   "id": "ce065f3f-85a2-4a3e-b572-5fadcfe5c5f7",
   "metadata": {},
   "source": [
    "### APARTADO B\n",
    "Como se observa en el apartado anterior, el tiempo de la primera ejecución de la función utilizando el decorador *@njit* es mayor a cuando no se emplea. Esto se debe a que en la primera ejecución *numba* compila el código de la función y esto suma un tiempo extra. Sin embargo, cuando se ejecuta por segunda vez la función ya está compilada, por lo que el tiempo se reduce significativamente (0.0004s), siendo incluso menor a la suma con la función *sum* de *numpy*."
   ]
  }
 ],
 "metadata": {
  "kernelspec": {
   "display_name": "Python 3 (ipykernel)",
   "language": "python",
   "name": "python3"
  },
  "language_info": {
   "codemirror_mode": {
    "name": "ipython",
    "version": 3
   },
   "file_extension": ".py",
   "mimetype": "text/x-python",
   "name": "python",
   "nbconvert_exporter": "python",
   "pygments_lexer": "ipython3",
   "version": "3.10.9"
  }
 },
 "nbformat": 4,
 "nbformat_minor": 5
}
